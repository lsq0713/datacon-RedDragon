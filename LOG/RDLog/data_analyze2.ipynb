{
 "cells": [
  {
   "cell_type": "markdown",
   "metadata": {},
   "source": [
    "### 日志数据处理"
   ]
  },
  {
   "cell_type": "code",
   "execution_count": 34,
   "metadata": {},
   "outputs": [],
   "source": [
    "import pandas as pd\n",
    "from tqdm import tqdm\n",
    "import torch\n",
    "import torch.nn as nn"
   ]
  },
  {
   "cell_type": "code",
   "execution_count": null,
   "metadata": {},
   "outputs": [],
   "source": [
    "# 读取 Excel 文件\n",
    "file_path = './data/raw_data.xlsx'  # 替换为你的 Excel 文件路径\n",
    "sheet_name = 'Sheet1'  # 指定工作表名称，如果不指定，则默认读取第一个工作表\n",
    "\n",
    "# 使用 pandas 的 read_excel 函数读取数据\n",
    "data = pd.read_excel(file_path, sheet_name=sheet_name)"
   ]
  },
  {
   "cell_type": "code",
   "execution_count": 26,
   "metadata": {},
   "outputs": [
    {
     "name": "stdout",
     "output_type": "stream",
     "text": [
      "Index(['订单创建时间', '患者ID', '状态'], dtype='object')\n"
     ]
    }
   ],
   "source": [
    "# 真实有用的列: APPID, IP_ADDRESS, 创建时间, 患者ID, 状态\n",
    "# 初筛：患者ID, (APPID, IP_ADDRESS)\n",
    "# 嵌入：创建时间, 患者ID, 状态\n",
    "data = data[[\"订单创建时间\", \"患者ID\", \"状态\"]]\n",
    "print(data.columns)"
   ]
  },
  {
   "cell_type": "markdown",
   "metadata": {},
   "source": [
    "#### 数据的一些特征\n",
    "\n",
    "1. 一共35万条数据，一共28万个用户，说明大部分用户其实都只挂过一次号(时间跨度大概是一个月)\n",
    "   - 这些只挂过一次号的基本可以认为是正常用户\n",
    "   - 先找出重复挂号的用户，分析其特征"
   ]
  },
  {
   "cell_type": "code",
   "execution_count": null,
   "metadata": {},
   "outputs": [],
   "source": [
    "# 找出重复挂号的用户的ID\n",
    "# duplicated_rows = data[data['患者ID'].duplicated(keep=False)]\n",
    "# duplicated_rows = duplicated_rows.sort_values(by=['患者ID', '订单创建时间'], ascending=[True, True])"
   ]
  },
  {
   "cell_type": "code",
   "execution_count": null,
   "metadata": {},
   "outputs": [],
   "source": [
    "# 保存\n",
    "# output_file = \"./data/repeat_records.xlsx\"\n",
    "# duplicated_rows.to_excel(output_file, sheet_name=\"duplicate\", index=False)"
   ]
  },
  {
   "cell_type": "code",
   "execution_count": 27,
   "metadata": {},
   "outputs": [
    {
     "name": "stdout",
     "output_type": "stream",
     "text": [
      "大量重复的行:  22225\n"
     ]
    }
   ],
   "source": [
    "MAX_DUP = 5\n",
    "# 筛选出重复次数大于MAX_DUP的\n",
    "value_counts = data['患者ID'].value_counts()\n",
    "# 筛选出重复次数大于5的行\n",
    "mass_duplicated = data[data['患者ID'].isin(value_counts[value_counts > MAX_DUP].index)]\n",
    "mass_duplicated = mass_duplicated.sort_values(by=['患者ID', '订单创建时间'], ascending=[True, True])\n",
    "print(\"大量重复的行: \", len(mass_duplicated))"
   ]
  },
  {
   "cell_type": "code",
   "execution_count": 28,
   "metadata": {},
   "outputs": [
    {
     "name": "stdout",
     "output_type": "stream",
     "text": [
      "无重复的行:  154603\n"
     ]
    }
   ],
   "source": [
    "# 筛选无重复的行\n",
    "unique_rows = data[data['患者ID'].isin(value_counts[value_counts == 1].index)]\n",
    "unique_rows = unique_rows.sort_values(by=['患者ID', '订单创建时间'], ascending=[True, True])\n",
    "print(\"无重复的行: \", len(unique_rows))"
   ]
  },
  {
   "cell_type": "code",
   "execution_count": 33,
   "metadata": {},
   "outputs": [
    {
     "name": "stdout",
     "output_type": "stream",
     "text": [
      "(348210, 8)\n"
     ]
    }
   ],
   "source": [
    "# 选择需要One-Hot编码的列\n",
    "columns_to_encode = [\"状态\"]\n",
    "\n",
    "# 对指定列进行One-Hot编码\n",
    "encoded_data = pd.get_dummies(data, columns=columns_to_encode, drop_first=True)\n",
    "\n",
    "# 打印结果\n",
    "print(encoded_data.shape)"
   ]
  },
  {
   "cell_type": "markdown",
   "metadata": {},
   "source": [
    "#### 嵌入"
   ]
  },
  {
   "cell_type": "code",
   "execution_count": null,
   "metadata": {},
   "outputs": [],
   "source": [
    "def layer_embedding(data, seg_name, embedding_dim=64):\n",
    "    seg_data = data[seg_name]\n",
    "    unique_num = seg_data.nunique()\n",
    "    embedding = nn.Embedding(num_embeddings=unique_num, embedding_dim=embedding_dim) # 定义嵌入层\n",
    "    index = seg_data.astype('category').cat.codes   # 转换为数值索引\n",
    "    tensor = torch.tensor(index.values)     # 将数值索引转换为PyTorch张量\n",
    "    embeddings = embedding(tensor)        # 使用嵌入层获取嵌入向量\n",
    "    return embeddings\n"
   ]
  },
  {
   "cell_type": "code",
   "execution_count": null,
   "metadata": {},
   "outputs": [
    {
     "name": "stdout",
     "output_type": "stream",
     "text": [
      "torch.Size([348210, 16])\n",
      "torch.Size([348210, 32])\n"
     ]
    }
   ],
   "source": [
    "# 患者ID, 时间(使用嵌入层)\n",
    "user_embeddings = layer_embedding(data, '患者ID', embedding_dim=16)\n",
    "time_embeddings = layer_embedding(data, '订单创建时间', embedding_dim=32)\n",
    "print(user_embeddings.shape)\n",
    "print(time_embeddings.shape)"
   ]
  },
  {
   "cell_type": "code",
   "execution_count": null,
   "metadata": {},
   "outputs": [
    {
     "name": "stdout",
     "output_type": "stream",
     "text": [
      "torch.Size([348210, 7])\n"
     ]
    }
   ],
   "source": [
    "# 状态(One-hot)\n",
    "# 对状态列进行One-Hot编码\n",
    "data_encoded = pd.get_dummies(data, columns=['状态'])\n",
    "data_encoded = data_encoded[['状态_主动取消', '状态_医保换号', '状态_已挂号', '状态_已退号', '状态_无号退款',\n",
    "       '状态_窗口退号', '状态_超时取消']]\n",
    "\n",
    "# 将One-Hot编码结果转换为张量\n",
    "state_tensor = torch.tensor(data_encoded.values, dtype=torch.float32)\n",
    "print(state_tensor.shape)"
   ]
  },
  {
   "cell_type": "code",
   "execution_count": 55,
   "metadata": {},
   "outputs": [
    {
     "name": "stdout",
     "output_type": "stream",
     "text": [
      "torch.Size([348210, 55])\n"
     ]
    }
   ],
   "source": [
    "# 拼接\n",
    "embed_vec = torch.cat((user_embeddings, time_embeddings, state_tensor), dim=1)\n",
    "print(embed_vec.shape)"
   ]
  }
 ],
 "metadata": {
  "kernelspec": {
   "display_name": "base",
   "language": "python",
   "name": "python3"
  },
  "language_info": {
   "codemirror_mode": {
    "name": "ipython",
    "version": 3
   },
   "file_extension": ".py",
   "mimetype": "text/x-python",
   "name": "python",
   "nbconvert_exporter": "python",
   "pygments_lexer": "ipython3",
   "version": "3.10.14"
  }
 },
 "nbformat": 4,
 "nbformat_minor": 2
}
