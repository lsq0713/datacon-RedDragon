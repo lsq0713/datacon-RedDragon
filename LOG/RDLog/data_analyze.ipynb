{
 "cells": [
  {
   "cell_type": "markdown",
   "metadata": {},
   "source": [
    "### 日志数据处理"
   ]
  },
  {
   "cell_type": "code",
   "execution_count": 1,
   "metadata": {},
   "outputs": [],
   "source": [
    "import pandas as pd\n",
    "from tqdm import tqdm"
   ]
  },
  {
   "cell_type": "code",
   "execution_count": 2,
   "metadata": {},
   "outputs": [],
   "source": [
    "# 读取 Excel 文件\n",
    "file_path = './data/raw_data.xlsx'  # 替换为你的 Excel 文件路径\n",
    "sheet_name = 'Sheet1'  # 指定工作表名称，如果不指定，则默认读取第一个工作表\n",
    "\n",
    "# 使用 pandas 的 read_excel 函数读取数据\n",
    "data = pd.read_excel(file_path, sheet_name=sheet_name)"
   ]
  },
  {
   "cell_type": "markdown",
   "metadata": {},
   "source": [
    "#### 数据的一些特征\n",
    "\n",
    "1. 一共35万条数据，一共28万个用户，说明大部分用户其实都只挂过一次号(时间跨度大概是一个月)\n",
    "   - 这些只挂过一次号的基本可以认为是正常用户\n",
    "   - 先找出重复挂号的用户，分析其特征"
   ]
  },
  {
   "cell_type": "code",
   "execution_count": 52,
   "metadata": {},
   "outputs": [],
   "source": [
    "# 找出重复挂号的用户的ID\n",
    "duplicated_rows = data[data['患者ID'].duplicated(keep=False)]\n",
    "duplicated_rows = duplicated_rows.sort_values(by=['患者ID', '订单创建时间'], ascending=[True, True])"
   ]
  },
  {
   "cell_type": "code",
   "execution_count": 53,
   "metadata": {},
   "outputs": [],
   "source": [
    "# 保存\n",
    "output_file = \"./data/repeat_records.xlsx\"\n",
    "duplicated_rows.to_excel(output_file, sheet_name=\"duplicate\", index=False)"
   ]
  },
  {
   "cell_type": "code",
   "execution_count": 10,
   "metadata": {},
   "outputs": [
    {
     "name": "stdout",
     "output_type": "stream",
     "text": [
      "大量重复的行:  14443\n"
     ]
    }
   ],
   "source": [
    "MAX_DUP = 6\n",
    "# 筛选出重复次数大于5的和无重复的\n",
    "value_counts = data['患者ID'].value_counts()\n",
    "# 筛选出重复次数大于5的行\n",
    "mass_duplicated = data[data['患者ID'].isin(value_counts[value_counts > MAX_DUP].index)]\n",
    "mass_duplicated = mass_duplicated.sort_values(by=['患者ID', '订单创建时间'], ascending=[True, True])\n",
    "print(\"大量重复的行: \", len(mass_duplicated))"
   ]
  },
  {
   "cell_type": "code",
   "execution_count": 11,
   "metadata": {},
   "outputs": [
    {
     "name": "stdout",
     "output_type": "stream",
     "text": [
      "无重复的行:  154603\n"
     ]
    }
   ],
   "source": [
    "# 筛选无重复的行\n",
    "unique_rows = data[data['患者ID'].isin(value_counts[value_counts == 1].index)]\n",
    "unique_rows = unique_rows.sort_values(by=['患者ID', '订单创建时间'], ascending=[True, True])\n",
    "print(\"无重复的行: \", len(unique_rows))"
   ]
  },
  {
   "cell_type": "code",
   "execution_count": 12,
   "metadata": {},
   "outputs": [
    {
     "name": "stdout",
     "output_type": "stream",
     "text": [
      "Index(['ID', '省份', 'APPID', 'IP_ADDRESS', '订单创建时间', '患者ID', '患者创建时间', '就诊日期',\n",
      "       '就诊科室名称', '医生姓名', '状态', '商户订单号'],\n",
      "      dtype='object')\n"
     ]
    }
   ],
   "source": [
    "print(data.columns)"
   ]
  },
  {
   "cell_type": "code",
   "execution_count": 13,
   "metadata": {},
   "outputs": [],
   "source": [
    "import pandas as pd\n",
    "from sklearn.preprocessing import OneHotEncoder, LabelEncoder\n",
    "from sklearn.compose import ColumnTransformer\n",
    "from sklearn.pipeline import Pipeline\n",
    "from sklearn.impute import SimpleImputer\n",
    "from sklearn.ensemble import IsolationForest"
   ]
  },
  {
   "cell_type": "code",
   "execution_count": null,
   "metadata": {},
   "outputs": [
    {
     "name": "stdout",
     "output_type": "stream",
     "text": [
      "            ID   省份                             APPID       IP_ADDRESS  \\\n",
      "0            1   北京  9f2fd531c80a48849af7a3c180a8d267   221.216.34.188   \n",
      "1            2   北京  f297332c9d424acdb5b97aa7b6922e3a    223.104.40.76   \n",
      "2            3   河北  0bc9f59db31844aabe1b266229518655    36.143.73.105   \n",
      "3            4   北京  71b15132c79d4ae18c9a5213750656e9  118.247.172.109   \n",
      "4            5   北京  3b94345c553447a697d3c44092807cf1   223.104.38.155   \n",
      "...        ...  ...                               ...              ...   \n",
      "348205  348206   北京  d1a16219220b4af685fbf90232f0f421   120.244.38.164   \n",
      "348206  348207   北京  02f90c86930848de937aa5075a6459ec   223.104.41.243   \n",
      "348207  348208   北京  80c2ac86b5604a468e45fcd64f775432    223.72.179.14   \n",
      "348208  348209   北京  fa721bad2a704c7c8f93bd52edf76a96   120.244.182.37   \n",
      "348209  348210  黑龙江  1c4e2c4e72e84c3f9740b2d8cf2b69cf     1.56.172.120   \n",
      "\n",
      "                     订单创建时间     患者ID               患者创建时间        就诊日期 就诊科室名称  \\\n",
      "0       2024-04-09 16:59:59  T000001  2024-03-25 10:35:06  2024-04-16   D001   \n",
      "1       2024-04-09 16:59:57  T000002  2017-09-19 05:23:41  2024-04-16   D002   \n",
      "2       2024-04-09 16:59:46  T000003  2024-03-07 10:11:38  2024-04-16   D003   \n",
      "3       2024-04-09 16:59:45  T000004  2017-10-08 20:47:40  2024-04-12   D003   \n",
      "4       2024-04-09 16:59:29  T000005  2024-04-09 16:55:49  2024-04-16   D004   \n",
      "...                     ...      ...                  ...         ...    ...   \n",
      "348205  2024-03-01 17:00:16  T222906  2024-03-01 17:00:06  2024-03-08   D001   \n",
      "348206  2024-03-01 17:00:15  T225427  2024-03-01 16:57:38  2024-03-08   D012   \n",
      "348207  2024-03-01 17:00:15  T225428  2024-01-10 20:35:04  2024-03-08   D038   \n",
      "348208  2024-03-01 17:00:07  T225429  2024-03-01 15:36:22  2024-03-02   D113   \n",
      "348209  2024-03-01 17:00:06  T025638  2023-03-02 12:58:40  2024-03-08   D028   \n",
      "\n",
      "           医生姓名    状态                         商户订单号  Anomaly  \n",
      "0       Doc0001   已退号  RESC_00170_1_126532245499f2f        1  \n",
      "1       Doc0002   已挂号  RESC_00170_1_12653264666f297        1  \n",
      "2       Doc0003   已挂号  RESC_00170_1_126531945780bc9        1  \n",
      "3       Doc0004   已退号  RESC_00170_1_1265324347271b1        1  \n",
      "4       Doc0005   已挂号  RESC_00170_1_126531809563b94        1  \n",
      "...         ...   ...                           ...      ...  \n",
      "348205  Doc0945   已退号  RESC_00170_1_09283629356d1a1        1  \n",
      "348206  Doc0018   已退号  RESC_00170_1_0928362124702f9        1  \n",
      "348207  Doc0947  医保换号  RESC_00170_1_0928362301780c2        1  \n",
      "348208  Doc0038   已挂号  RESC_00170_1_09283613984fa72        1  \n",
      "348209  Doc0828   已退号  RESC_00170_1_092836115081c4e        1  \n",
      "\n",
      "[348210 rows x 13 columns]\n"
     ]
    }
   ],
   "source": [
    "\n",
    "# 列名称\n",
    "columns = ['ID', '省份', 'APPID', 'IP_ADDRESS', '订单创建时间', '患者ID', '患者创建时间', '就诊日期',\n",
    "           '就诊科室名称', '医生姓名', '状态', '商户订单号']\n",
    "\n",
    "# 分类特征列\n",
    "categorical_features = ['省份', 'APPID', 'IP_ADDRESS', '就诊科室名称', '医生姓名', '患者ID', '商户订单号']\n",
    "\n",
    "# 时间特征列\n",
    "time_features = ['订单创建时间', '患者创建时间', '就诊日期']\n",
    "\n",
    "# 数值特征列\n",
    "numeric_features = ['ID']\n",
    "\n",
    "# 处理分类特征\n",
    "categorical_transformer = Pipeline(steps=[\n",
    "    ('imputer', SimpleImputer(strategy='most_frequent')),\n",
    "    ('onehot', OneHotEncoder(handle_unknown='ignore'))\n",
    "])\n",
    "\n",
    "# 处理数值特征\n",
    "numeric_transformer = Pipeline(steps=[\n",
    "    ('imputer', SimpleImputer(strategy='median'))\n",
    "])\n",
    "\n",
    "# 预处理管道\n",
    "preprocessor = ColumnTransformer(\n",
    "    transformers=[\n",
    "        ('num', numeric_transformer, numeric_features),\n",
    "        ('cat', categorical_transformer, categorical_features)\n",
    "    ])\n",
    "\n",
    "# 异常检测模型\n",
    "model = IsolationForest()\n",
    "\n",
    "# 训练模型\n",
    "model.fit(preprocessor.fit_transform(data[columns]))\n",
    "\n",
    "# 预测异常\n",
    "predictions = model.predict(preprocessor.transform(data[columns]))\n",
    "data['Anomaly'] = predictions\n"
   ]
  },
  {
   "cell_type": "code",
   "execution_count": 17,
   "metadata": {},
   "outputs": [
    {
     "name": "stdout",
     "output_type": "stream",
     "text": [
      "0         1\n",
      "1         1\n",
      "2         1\n",
      "3         1\n",
      "4         1\n",
      "         ..\n",
      "348205    1\n",
      "348206    1\n",
      "348207    1\n",
      "348208    1\n",
      "348209    1\n",
      "Name: Anomaly, Length: 348210, dtype: int32\n"
     ]
    }
   ],
   "source": [
    "# 打印结果\n",
    "print(data['Anomaly'])"
   ]
  }
 ],
 "metadata": {
  "kernelspec": {
   "display_name": "base",
   "language": "python",
   "name": "python3"
  },
  "language_info": {
   "codemirror_mode": {
    "name": "ipython",
    "version": 3
   },
   "file_extension": ".py",
   "mimetype": "text/x-python",
   "name": "python",
   "nbconvert_exporter": "python",
   "pygments_lexer": "ipython3",
   "version": "3.10.14"
  }
 },
 "nbformat": 4,
 "nbformat_minor": 2
}
