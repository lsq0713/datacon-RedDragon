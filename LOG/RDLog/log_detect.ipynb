{
 "cells": [
  {
   "cell_type": "markdown",
   "metadata": {
    "vscode": {
     "languageId": "plaintext"
    }
   },
   "source": [
    "### 黄牛检测"
   ]
  },
  {
   "cell_type": "code",
   "execution_count": 1,
   "metadata": {},
   "outputs": [],
   "source": [
    "import pandas as pd\n",
    "from tqdm import tqdm\n",
    "import torch\n",
    "import torch.nn as nn"
   ]
  },
  {
   "cell_type": "code",
   "execution_count": 2,
   "metadata": {},
   "outputs": [],
   "source": [
    "# 读取数据\n",
    "file_path = './data/raw_data.xlsx'\n",
    "sheet_name = 'Sheet1'\n",
    "data = pd.read_excel(file_path, sheet_name=sheet_name)"
   ]
  },
  {
   "cell_type": "code",
   "execution_count": 15,
   "metadata": {},
   "outputs": [
    {
     "name": "stdout",
     "output_type": "stream",
     "text": [
      "Index(['ID', '省份', 'APPID', 'IP_ADDRESS', '订单创建时间', '患者ID', '患者创建时间', '就诊日期',\n",
      "       '就诊科室名称', '医生姓名', '状态', '商户订单号'],\n",
      "      dtype='object')\n"
     ]
    }
   ],
   "source": [
    "print(data.columns)"
   ]
  },
  {
   "cell_type": "markdown",
   "metadata": {},
   "source": [
    "#### 1. 基于规则的检测\n",
    "\n",
    "1. IP重复，来自同一个IP，且为超过3个人挂号\n",
    "2. 用户重复，来自同一个用户，且挂号了超过3个科室/超过两个app_id\n",
    "3. 时间过早，每天5:00-5:01进行操作的"
   ]
  },
  {
   "cell_type": "code",
   "execution_count": 13,
   "metadata": {},
   "outputs": [],
   "source": [
    "# 重复值筛选，找出data的seg_name字段中重复数大于limit的行, sort_add和asc_add是检测完之后添加的排序要求\n",
    "def duplicate_detect(data, seg_name, limit, sort_add=[], asc_add=[]):\n",
    "    assert len(sort_add) == len(asc_add)\n",
    "    value_counts = data[seg_name].value_counts()\n",
    "    dup_row = data[data[seg_name].isin(value_counts[value_counts > limit].index)]\n",
    "    sort_by = [seg_name] + sort_add\n",
    "    asc = [True] + asc_add\n",
    "    dup_row = dup_row.sort_values(by=sort_by, ascending=asc)\n",
    "    return dup_row"
   ]
  },
  {
   "cell_type": "code",
   "execution_count": 94,
   "metadata": {},
   "outputs": [
    {
     "name": "stdout",
     "output_type": "stream",
     "text": [
      "18916\n",
      "8488\n"
     ]
    }
   ],
   "source": [
    "# 确定是黄牛的行编号\n",
    "confirm_evil = []\n",
    "IP_limit = 90\n",
    "# IP重复检测\n",
    "ip_dup = duplicate_detect(data, 'IP_ADDRESS', IP_limit, sort_add=['患者ID'], asc_add=[True])\n",
    "print(len(ip_dup))\n",
    "IP_pos = 0          # 这个IP的起点\n",
    "user_count = 1      # 涉及多少个用户ID\n",
    "last_user = ip_dup['患者ID'].iloc[1] # 上一个用户的ID\n",
    "dup_num = len(ip_dup)\n",
    "for i in range(1, dup_num):\n",
    "    if ip_dup['IP_ADDRESS'].iloc[i] == ip_dup['IP_ADDRESS'].iloc[IP_pos]:\n",
    "        if ip_dup['患者ID'].iloc[i] != last_user:\n",
    "            # 相同IP下一个新的患者\n",
    "            user_count += 1\n",
    "            last_user = ip_dup['患者ID'].iloc[i]\n",
    "    if ip_dup['IP_ADDRESS'].iloc[i] != ip_dup['IP_ADDRESS'].iloc[IP_pos] or i == dup_num - 1:\n",
    "        # 开始检测下一个IP\n",
    "        if user_count > IP_limit:\n",
    "            # 达到重复人数条件\n",
    "            for j in range(IP_pos, i):\n",
    "                confirm_evil.append(ip_dup['ID'].iloc[j])\n",
    "        # 重置\n",
    "        IP_pos = i\n",
    "        user_count = 1\n",
    "        last_user = ip_dup['患者ID'].iloc[i]\n",
    "confirm_evil.sort()\n",
    "print(len(confirm_evil))"
   ]
  },
  {
   "cell_type": "code",
   "execution_count": 90,
   "metadata": {},
   "outputs": [],
   "source": [
    "def write_list(lis):\n",
    "    # 打开一个文件进行写入，如果文件不存在则创建\n",
    "    with open('./data/result.txt', 'w', encoding='utf-8') as file:\n",
    "        # 遍历列表中的每个元素\n",
    "        for item in lis:\n",
    "            # 将每个元素写入文件，每个元素后面加上换行符\n",
    "            file.write(str(item) + '\\n')"
   ]
  },
  {
   "cell_type": "code",
   "execution_count": 91,
   "metadata": {},
   "outputs": [],
   "source": [
    "write_list(confirm_evil)"
   ]
  }
 ],
 "metadata": {
  "kernelspec": {
   "display_name": "base",
   "language": "python",
   "name": "python3"
  },
  "language_info": {
   "codemirror_mode": {
    "name": "ipython",
    "version": 3
   },
   "file_extension": ".py",
   "mimetype": "text/x-python",
   "name": "python",
   "nbconvert_exporter": "python",
   "pygments_lexer": "ipython3",
   "version": "3.10.14"
  }
 },
 "nbformat": 4,
 "nbformat_minor": 2
}
